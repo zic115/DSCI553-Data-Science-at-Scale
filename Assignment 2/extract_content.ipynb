{
 "cells": [
  {
   "cell_type": "code",
   "execution_count": 4,
   "id": "97d11b2c",
   "metadata": {},
   "outputs": [],
   "source": [
    "import tika\n",
    "tika.initVM()\n",
    "from tika import parser\n",
    "import json\n",
    "import pandas as pd"
   ]
  },
  {
   "cell_type": "code",
   "execution_count": 5,
   "id": "ca89286e",
   "metadata": {},
   "outputs": [],
   "source": [
    "# Read the csv file that lists pdf names\n",
    "data = pd.read_csv('pdfs.csv')\n",
    "pdfs = data['pdfs'].to_list()"
   ]
  },
  {
   "cell_type": "code",
   "execution_count": 6,
   "id": "9f3e0d49",
   "metadata": {},
   "outputs": [],
   "source": [
    "# Use Tika to extract content\n",
    "for pdf in pdfs:\n",
    "    parsed = parser.from_file('./pdfs/' + pdf)\n",
    "    content = parsed['content']\n",
    "    content = content.replace('\\n', '').strip()\n",
    "    title = pdf.replace('.pdf', '')\n",
    "    with open(title + '.json', 'w') as f:\n",
    "        json.dump(content, f)"
   ]
  }
 ],
 "metadata": {
  "kernelspec": {
   "display_name": "Python 3 (ipykernel)",
   "language": "python",
   "name": "python3"
  },
  "language_info": {
   "codemirror_mode": {
    "name": "ipython",
    "version": 3
   },
   "file_extension": ".py",
   "mimetype": "text/x-python",
   "name": "python",
   "nbconvert_exporter": "python",
   "pygments_lexer": "ipython3",
   "version": "3.10.1"
  }
 },
 "nbformat": 4,
 "nbformat_minor": 5
}

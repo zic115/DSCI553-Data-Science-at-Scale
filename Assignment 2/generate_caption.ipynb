{
 "cells": [
  {
   "cell_type": "code",
   "execution_count": null,
   "id": "e90ffb0d",
   "metadata": {},
   "outputs": [],
   "source": [
    "import pandas as pd\n",
    "import requests"
   ]
  },
  {
   "cell_type": "code",
   "execution_count": null,
   "id": "6ba7e548",
   "metadata": {},
   "outputs": [],
   "source": [
    "# Generate a list of img urls\n",
    "data = pd.read_csv('img_urls.csv')\n",
    "img_urls = data['urls'].to_list()"
   ]
  },
  {
   "cell_type": "code",
   "execution_count": null,
   "id": "88a92865",
   "metadata": {},
   "outputs": [],
   "source": [
    "# Use docker to generate captions\n",
    "captions = []\n",
    "for i in range(len(img_urls)):\n",
    "    url = \"http://0.0.0.0:8764/inception/v3/caption/image?url=\" + img_urls[i]\n",
    "    res = requests.get(url).json()\n",
    "    caption = res['captions'][0]['sentence']\n",
    "    captions.append(caption)\n",
    "    print(caption)"
   ]
  },
  {
   "cell_type": "code",
   "execution_count": null,
   "id": "eb5f35e0",
   "metadata": {},
   "outputs": [],
   "source": [
    "print(captions)"
   ]
  }
 ],
 "metadata": {
  "kernelspec": {
   "display_name": "Python 3 (ipykernel)",
   "language": "python",
   "name": "python3"
  },
  "language_info": {
   "codemirror_mode": {
    "name": "ipython",
    "version": 3
   },
   "file_extension": ".py",
   "mimetype": "text/x-python",
   "name": "python",
   "nbconvert_exporter": "python",
   "pygments_lexer": "ipython3",
   "version": "3.10.1"
  }
 },
 "nbformat": 4,
 "nbformat_minor": 5
}
